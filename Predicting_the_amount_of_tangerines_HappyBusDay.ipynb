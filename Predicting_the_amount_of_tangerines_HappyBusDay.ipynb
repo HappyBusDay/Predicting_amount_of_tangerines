{
  "nbformat": 4,
  "nbformat_minor": 0,
  "metadata": {
    "colab": {
      "provenance": [],
      "collapsed_sections": [
        "68otAU3SPHHW",
        "YrP66_N9PNQE",
        "vroV60mAPOjL",
        "GOeSD6epPQcB",
        "JaVGCnMgRCoS",
        "rzSBtZBqQ0Yg",
        "1McXUCoPSVQI",
        "2qCvvBL2Spbb",
        "q0hCXCXrStSe",
        "ai_8W9kqRqft"
      ]
    },
    "kernelspec": {
      "name": "python3",
      "display_name": "Python 3"
    },
    "language_info": {
      "name": "python"
    }
  },
  "cells": [
    {
      "cell_type": "markdown",
      "source": [
        " **Happy Bus Day**\n",
        "\n",
        "\n",
        "* 시도 모델\n",
        "    1. machine learning (regressor)\n",
        "        * 1. decision tree / 2. random forest / 3. svm\n",
        "        * 4. kneighbors / 5. gaussian nb / 6. extra tree\n",
        "        * 7. adaboost / 8. gradboost / 9. xgboost\n",
        "        * 10. huber / 11. theil-sen / 12. polynomial\n",
        "\n",
        "    2. deep learning \n",
        "        * DNN\n",
        "            * layer : 1, 2, 3\n",
        "            * dropout : 0.1, 0.3, 0.5, 0.9\n",
        "            * optimizer : adam, adamW\n",
        "            * activation : relu, leaky relu\n",
        "\n",
        "    3. ensemble\n",
        "        * voting regressor\n",
        "        * mean score\n",
        "\n",
        "* 시도 및 착안 아이디어\n",
        "    1. correlation 활용 feature select (O)\n",
        "    2. 새로운 column 생성\n",
        "    3. voting regressor (X)\n",
        "    4. 중간 값 이용 앙상블 (O)\n",
        "    5. grid search (O)\n",
        "    6. optuna (X)\n",
        "    7. 반올림, 내림 (O)"
      ],
      "metadata": {
        "id": "4dCIHPWiPWAQ"
      }
    },
    {
      "cell_type": "markdown",
      "source": [
        "# pip, install, functions"
      ],
      "metadata": {
        "id": "68otAU3SPHHW"
      }
    },
    {
      "cell_type": "code",
      "execution_count": null,
      "metadata": {
        "id": "2X1Uud4YOYMC"
      },
      "outputs": [],
      "source": [
        "import pandas as pd\n",
        "import numpy as np\n",
        "import pickle"
      ]
    },
    {
      "cell_type": "code",
      "source": [
        "from sklearn.tree import DecisionTreeRegressor\n",
        "from sklearn import tree\n",
        "from sklearn.linear_model import LogisticRegression\n",
        "from sklearn.ensemble import RandomForestRegressor\n",
        "from sklearn.svm import SVR\n",
        "from sklearn.neighbors import KNeighborsRegressor\n",
        "from sklearn.pipeline import Pipeline\n",
        "from sklearn import decomposition\n",
        "from sklearn import datasets\n",
        "\n",
        "from sklearn.naive_bayes import GaussianNB\n",
        "from sklearn.ensemble import ExtraTreesRegressor\n",
        "from sklearn.ensemble import AdaBoostRegressor\n",
        "from sklearn.neural_network import MLPRegressor\n",
        "from sklearn.ensemble import GradientBoostingRegressor\n",
        "from sklearn.model_selection import GridSearchCV, cross_val_score\n",
        "\n",
        "from tqdm import tqdm"
      ],
      "metadata": {
        "id": "K8TEQkLTQhT_"
      },
      "execution_count": null,
      "outputs": []
    },
    {
      "cell_type": "code",
      "source": [
        "from sklearn.linear_model import HuberRegressor\n",
        "from sklearn.linear_model import TheilSenRegressor\n",
        "from sklearn.preprocessing import PolynomialFeatures\n",
        "from sklearn.linear_model import LinearRegression\n",
        "from sklearn.pipeline import Pipeline"
      ],
      "metadata": {
        "id": "KjR_QKzxRKLl"
      },
      "execution_count": null,
      "outputs": []
    },
    {
      "cell_type": "code",
      "source": [
        "from sklearn.ensemble import VotingRegressor\n",
        "from sklearn import model_selection"
      ],
      "metadata": {
        "id": "9MwGJmxeSSaO"
      },
      "execution_count": null,
      "outputs": []
    },
    {
      "cell_type": "markdown",
      "source": [
        "functions used for optuna (xgboost)"
      ],
      "metadata": {
        "id": "jHoNMkcOT9Xc"
      }
    },
    {
      "cell_type": "code",
      "source": [
        "%%capture\n",
        "!pip install optuna "
      ],
      "metadata": {
        "id": "1qLqBv5oUJj7"
      },
      "execution_count": null,
      "outputs": []
    },
    {
      "cell_type": "code",
      "source": [
        "import optuna\n",
        "\n",
        "import xgboost as xgb\n",
        "# from catboost import CatBoostRegressor\n",
        "import numpy as np\n",
        "import pandas as pd\n",
        "from sklearn.model_selection import KFold\n",
        "from sklearn.metrics import mean_squared_error\n",
        "from sklearn.model_selection import train_test_split\n",
        "from sklearn.metrics import mean_absolute_error"
      ],
      "metadata": {
        "id": "cotP1xKsUKNG"
      },
      "execution_count": null,
      "outputs": []
    },
    {
      "cell_type": "code",
      "source": [
        "def NMAE(true, pred):\n",
        "    score = np.mean(np.abs(true - pred) / true)\n",
        "    return score"
      ],
      "metadata": {
        "id": "s8BMJ0_DTl-_"
      },
      "execution_count": null,
      "outputs": []
    },
    {
      "cell_type": "markdown",
      "source": [
        "# load, split and make data"
      ],
      "metadata": {
        "id": "bj5_hJfRPLpQ"
      }
    },
    {
      "cell_type": "markdown",
      "source": [
        "## load"
      ],
      "metadata": {
        "id": "YrP66_N9PNQE"
      }
    },
    {
      "cell_type": "code",
      "source": [
        "train = pd.read_csv('./train.csv')\n",
        "test = pd.read_csv('./test.csv')"
      ],
      "metadata": {
        "id": "MGpkJtKuPOSx"
      },
      "execution_count": null,
      "outputs": []
    },
    {
      "cell_type": "markdown",
      "source": [
        "## split X_train y_train"
      ],
      "metadata": {
        "id": "vroV60mAPOjL"
      }
    },
    {
      "cell_type": "code",
      "source": [
        "X_train = train.drop(['ID','착과량(int)'], axis=1)\n",
        "y_train = train['착과량(int)']\n",
        "test = test.drop(['ID'], axis=1)"
      ],
      "metadata": {
        "id": "SIO-q9ybPc50"
      },
      "execution_count": null,
      "outputs": []
    },
    {
      "cell_type": "markdown",
      "source": [
        "* 13개 selected cols"
      ],
      "metadata": {
        "id": "GA2Lc2_TPjru"
      }
    },
    {
      "cell_type": "code",
      "source": [
        "X_train_13col = X_train[['2022-09-01 새순', '2022-09-02 새순', '2022-09-03 새순', '2022-09-04 새순',\n",
        "       '2022-09-05 새순', '2022-09-06 새순', '2022-09-07 새순', '2022-09-08 새순',\n",
        "       '2022-09-09 새순', '2022-09-10 새순', '2022-09-11 새순', '2022-09-13 새순',\n",
        "       '2022-09-16 새순']]"
      ],
      "metadata": {
        "id": "FEHJyDpCPfi1"
      },
      "execution_count": null,
      "outputs": []
    },
    {
      "cell_type": "markdown",
      "source": [
        "* 5개 selected cols"
      ],
      "metadata": {
        "id": "yyZDFfkCQZB-"
      }
    },
    {
      "cell_type": "code",
      "source": [
        "#5Features_1\n",
        "X_train_5col = X_train[['2022-09-01 새순', '2022-09-02 새순', '2022-09-04 새순',\n",
        "       '2022-09-07 새순', '2022-09-10 새순']]"
      ],
      "metadata": {
        "id": "tp3LN9yzQX4o"
      },
      "execution_count": null,
      "outputs": []
    },
    {
      "cell_type": "markdown",
      "source": [
        "* 6개 selected cols"
      ],
      "metadata": {
        "id": "-rqH-U3OQb3w"
      }
    },
    {
      "cell_type": "code",
      "source": [
        "#6Features_1\n",
        "\n",
        "X_train_6col = X_train[['2022-09-01 새순', '2022-09-02 새순', '2022-09-04 새순', '2022-09-06 새순',\n",
        "       '2022-09-07 새순', '2022-09-10 새순']]\n",
        "X_train_6col"
      ],
      "metadata": {
        "id": "oNtSYKNeQbtq"
      },
      "execution_count": null,
      "outputs": []
    },
    {
      "cell_type": "markdown",
      "source": [
        "* 9개 cols\n",
        "\n",
        "       5개 selected cols + 4개 middle value"
      ],
      "metadata": {
        "id": "dRwugl50Qkh2"
      }
    },
    {
      "cell_type": "code",
      "source": [
        "X_train_9col_day = pd.DataFrame(columns=['2022-09-01 새순', '2022-09-01 새순mid',  '2022-09-02 새순',  '2022-09-02 새순mid', '2022-09-04 새순', '2022-09-04 새순mid',\n",
        "       '2022-09-07 새순','2022-09-07 새순mid', '2022-09-10 새순'])\n",
        "\n",
        "lst = ['2022-09-01 새순', '2022-09-02 새순', '2022-09-04 새순','2022-09-07 새순', '2022-09-10 새순']\n",
        "lst2 = ['2022-09-01 새순mid', '2022-09-02 새순mid', '2022-09-04 새순mid','2022-09-07 새순mid']\n",
        "\n",
        "for i in lst:\n",
        "    X_train_9col_day[i] = X_train[i]\n",
        "    \n",
        "for i in range( len(lst)-1 ):\n",
        "    X_train_9col_day[lst2[i]] = (X_train_9col_day[lst[i]] + X_train_9col_day[lst[i+1]] )/2"
      ],
      "metadata": {
        "id": "bxZC3rTTQjYW"
      },
      "execution_count": null,
      "outputs": []
    },
    {
      "cell_type": "markdown",
      "source": [
        "# feature select\n",
        "실행 시 train test split되므로 load data를 다시 실행해야 함"
      ],
      "metadata": {
        "id": "GOeSD6epPQcB"
      }
    },
    {
      "cell_type": "code",
      "source": [
        "%%capture\n",
        "!pip install category_encoders"
      ],
      "metadata": {
        "id": "K7zytccxzJVF"
      },
      "execution_count": null,
      "outputs": []
    },
    {
      "cell_type": "code",
      "source": [
        "from category_encoders import OneHotEncoder\n",
        "encoder = OneHotEncoder(use_cat_names = True)\n",
        "df1 = encoder.fit_transform(train)"
      ],
      "metadata": {
        "id": "BgYR85dxy8yH"
      },
      "execution_count": null,
      "outputs": []
    },
    {
      "cell_type": "code",
      "source": [
        "from sklearn.model_selection import train_test_split\n",
        "X = df1[df1.columns.difference(['착과량(int)'])]\n",
        "y = df1[['착과량(int)']]\n",
        "X_train, X_test, y_train, y_test = train_test_split(X, y, train_size=0.8, test_size=0.2)\n",
        "print(X_train.shape)\n",
        "print(X_test.shape)\n",
        "print(y_train.shape)\n",
        "print(y_test.shape)\n",
        "print(df1.shape)"
      ],
      "metadata": {
        "colab": {
          "base_uri": "https://localhost:8080/"
        },
        "id": "Fc-NgvvPy-B6",
        "outputId": "a18e93a5-7543-405c-c322-5f4bf576990d"
      },
      "execution_count": null,
      "outputs": [
        {
          "output_type": "stream",
          "name": "stdout",
          "text": [
            "(1765, 2389)\n",
            "(442, 2389)\n",
            "(1765, 1)\n",
            "(442, 1)\n",
            "(2207, 2390)\n"
          ]
        }
      ]
    },
    {
      "cell_type": "code",
      "source": [
        "# target(Price)와 가장 correlated 된 features 를 k개 고르기.\n",
        "## f_regresison, SelectKBest 불러오기.\n",
        "from sklearn.feature_selection import f_regression, SelectKBest\n",
        "## selctor 정의하기.\n",
        "selector = SelectKBest(score_func=f_regression, k=5)\n",
        "## 학습데이터에 fit_transform \n",
        "X_train_selected = selector.fit_transform(X_train, y_train)\n",
        "## 테스트 데이터는 transform\n",
        "X_test_selected = selector.transform(X_test)\n",
        "X_train_selected.shape, X_test_selected.shape"
      ],
      "metadata": {
        "colab": {
          "base_uri": "https://localhost:8080/"
        },
        "id": "PAsFp5CSzo9F",
        "outputId": "7ba783e3-5254-4d3c-d1d3-2490bab547f9"
      },
      "execution_count": null,
      "outputs": [
        {
          "output_type": "stream",
          "name": "stderr",
          "text": [
            "/usr/local/lib/python3.8/dist-packages/sklearn/utils/validation.py:993: DataConversionWarning: A column-vector y was passed when a 1d array was expected. Please change the shape of y to (n_samples, ), for example using ravel().\n",
            "  y = column_or_1d(y, warn=True)\n",
            "/usr/local/lib/python3.8/dist-packages/sklearn/feature_selection/_univariate_selection.py:289: RuntimeWarning: invalid value encountered in true_divide\n",
            "  correlation_coefficient /= X_norms\n"
          ]
        },
        {
          "output_type": "execute_result",
          "data": {
            "text/plain": [
              "((1765, 5), (442, 5))"
            ]
          },
          "metadata": {},
          "execution_count": 23
        }
      ]
    },
    {
      "cell_type": "code",
      "source": [
        "all_names = X_train.columns\n",
        "## selector.get_support()\n",
        "selected_mask = selector.get_support()\n",
        "## 선택된 특성(변수)들\n",
        "selected_names = all_names[selected_mask]\n",
        "## 선택되지 않은 특성(변수)들\n",
        "unselected_names = all_names[~selected_mask]\n",
        "print('Selected names: ', selected_names)\n",
        "print('Unselected names: ', unselected_names)"
      ],
      "metadata": {
        "id": "w8C-bB6i9eLL",
        "colab": {
          "base_uri": "https://localhost:8080/"
        },
        "outputId": "0c4ebc34-5e7d-4d51-8ebd-8521534eb671"
      },
      "execution_count": null,
      "outputs": [
        {
          "output_type": "stream",
          "name": "stdout",
          "text": [
            "Selected names:  Index(['2022-09-01 새순', '2022-09-02 새순', '2022-09-04 새순', '2022-09-06 새순',\n",
            "       '2022-09-07 새순'],\n",
            "      dtype='object')\n",
            "Unselected names:  Index(['2022-09-01 엽록소', '2022-09-02 엽록소', '2022-09-03 새순', '2022-09-03 엽록소',\n",
            "       '2022-09-04 엽록소', '2022-09-05 새순', '2022-09-05 엽록소', '2022-09-06 엽록소',\n",
            "       '2022-09-07 엽록소', '2022-09-08 새순',\n",
            "       ...\n",
            "       'ID_TRAIN_2201', 'ID_TRAIN_2202', 'ID_TRAIN_2203', 'ID_TRAIN_2204',\n",
            "       'ID_TRAIN_2205', 'ID_TRAIN_2206', '수고(m)', '수관폭1(min)', '수관폭2(max)',\n",
            "       '수관폭평균'],\n",
            "      dtype='object', length=2384)\n"
          ]
        }
      ]
    },
    {
      "cell_type": "markdown",
      "source": [
        "# model define"
      ],
      "metadata": {
        "id": "JaVGCnMgRCoS"
      }
    },
    {
      "cell_type": "code",
      "source": [
        "dtr = DecisionTreeRegressor()\n",
        "lgr = LogisticRegression()\n",
        "rfr = RandomForestRegressor()\n",
        "svr = SVR()\n",
        "knnr = KNeighborsRegressor()\n",
        "\n",
        "gnb = GaussianNB()\n",
        "extree = ExtraTreesRegressor()\n",
        "adaboost = AdaBoostRegressor()\n",
        "mlp = MLPRegressor()\n",
        "gradboost = GradientBoostingRegressor()\n",
        "\n",
        "huber = HuberRegressor()\n",
        "theilsen = TheilSenRegressor()\n",
        "p_model2 = Pipeline([('poly',PolynomialFeatures(degree=2, include_bias=False)),\n",
        "                    ('linear',LinearRegression())])\n"
      ],
      "metadata": {
        "id": "2U9PkXyRRffr"
      },
      "execution_count": null,
      "outputs": []
    },
    {
      "cell_type": "code",
      "source": [
        "# example\n",
        "dtr = DecisionTreeRegressor()\n",
        "\n",
        "dtr.fit(X_train, y_train)"
      ],
      "metadata": {
        "id": "K6OphWdORGss"
      },
      "execution_count": null,
      "outputs": []
    },
    {
      "cell_type": "markdown",
      "source": [
        "# grid search"
      ],
      "metadata": {
        "id": "rzSBtZBqQ0Yg"
      }
    },
    {
      "cell_type": "code",
      "source": [
        "###### choose model category above defined #######\n",
        "\n",
        "estimator = RandomForestRegressor()\n",
        "\n",
        "param_grid = {'criterion':['mae','mse'], 'max_depth':[5]} \n",
        "grid = GridSearchCV(estimator, param_grid=param_grid) \n",
        "grid.fit(X_train_13col, y_train)"
      ],
      "metadata": {
        "id": "CirqfHOnQ08K"
      },
      "execution_count": null,
      "outputs": []
    },
    {
      "cell_type": "code",
      "source": [
        "estimator = RandomForestRegressor()\n",
        "estimator.set_params(**grid.best_params_)\n",
        "\n",
        "estimator.fit(X_train, y_train)"
      ],
      "metadata": {
        "id": "sFadIYi2RlMg"
      },
      "execution_count": null,
      "outputs": []
    },
    {
      "cell_type": "code",
      "source": [
        "pred = estimator.predict(test)"
      ],
      "metadata": {
        "id": "6eGe3RIZRlio"
      },
      "execution_count": null,
      "outputs": []
    },
    {
      "cell_type": "markdown",
      "source": [
        "# optuna (xgboost)"
      ],
      "metadata": {
        "id": "1McXUCoPSVQI"
      }
    },
    {
      "cell_type": "code",
      "source": [
        "def objective(trial, data=X_train, target=y_train):\n",
        "    train_x, test_x, train_y, test_y = train_test_split(data, target, test_size=0.15,random_state=42)\n",
        "    param = {\n",
        "        'loss_function': 'NMAE',\n",
        "        'learning_rate': trial.suggest_categorical('learning_rate', [0.008,0.01,0.012,0.014,0.016,0.018, 0.02]),\n",
        "        'n_estimators': 10000,\n",
        "        'max_depth': trial.suggest_categorical('max_depth', [5,7,9,11,13,15,17])\n",
        "    }\n",
        "    model = xgb.XGBRegressor(**param)  \n",
        "    \n",
        "    model.fit(train_x,train_y,eval_set=[(test_x,test_y)],early_stopping_rounds=100,verbose=False)\n",
        "    \n",
        "    preds = model.predict(test_x)\n",
        "    \n",
        "    nmae = NMAE(test_y, preds)\n",
        "    # mae = mean_absolute_error(test_y, preds) # ,squared=False)\n",
        "    \n",
        "    return nmae"
      ],
      "metadata": {
        "id": "-6FJEfTX7-bY"
      },
      "execution_count": null,
      "outputs": []
    },
    {
      "cell_type": "code",
      "source": [
        "study = optuna.create_study(direction='minimize')\n",
        "study.optimize(objective, n_trials=50)  # n_trials 가 epoch\n",
        "\n",
        "print('Number of finished trials:', len(study.trials))\n",
        "print('Best trial:', study.best_trial.params)"
      ],
      "metadata": {
        "id": "ryXQZZs9SqoH"
      },
      "execution_count": null,
      "outputs": []
    },
    {
      "cell_type": "code",
      "source": [
        "param = {\n",
        "    'loss_function': 'NMAE',\n",
        "    'learning_rate': 0.008,\n",
        "    'n_estimators': 10000,\n",
        "    'max_depth': 17\n",
        "}\n",
        "xgboost = xgb.XGBRegressor(**param)  "
      ],
      "metadata": {
        "id": "gr6VpJ4IUXmw"
      },
      "execution_count": null,
      "outputs": []
    },
    {
      "cell_type": "markdown",
      "source": [
        "# voting regressor"
      ],
      "metadata": {
        "id": "2qCvvBL2Spbb"
      }
    },
    {
      "cell_type": "code",
      "source": [
        "voting = VotingRegressor([('extra tree', extree),\n",
        "                        ('adabst', adaboost),\n",
        "                        ('gradbst', gradboost),\n",
        "                        ('knnr', knnr),\n",
        "                        ('Decision Tree', decitree),\n",
        "                        ('Random Forest', rndforest)])\n",
        "\n",
        "pred = voting.fit(X_train, y_train).predict(test)"
      ],
      "metadata": {
        "id": "rtzxwY_0SWLi"
      },
      "execution_count": null,
      "outputs": []
    },
    {
      "cell_type": "markdown",
      "source": [
        "# mean ensemble"
      ],
      "metadata": {
        "id": "q0hCXCXrStSe"
      }
    },
    {
      "cell_type": "code",
      "source": [
        "A = pd.read_csv(\"A.csv\")\n",
        "B = pd.read_csv(\"B.csv\")\n",
        "C = pd.read_csv(\"C.csv\")\n",
        "D = pd.read_csv(\"D.csv\")"
      ],
      "metadata": {
        "id": "jwuydiPFSuWj"
      },
      "execution_count": null,
      "outputs": []
    },
    {
      "cell_type": "code",
      "source": [
        "###### 작성 ######\n",
        "models = [A, B, C, D]\n",
        "##################\n",
        "\n",
        "dic = {'ID' :[], '착과량(int)' :[]}\n",
        "\n",
        "for i in range(len(R['ID'])) :\n",
        "    tmp = []\n",
        "    dic['ID'].append(R['ID'][i])\n",
        "    for esb in models:\n",
        "        tmp.append( esb['착과량(int)'][i] )\n",
        "\n",
        "    dic['착과량(int)'].append(np.mean(tmp))\n",
        "\n",
        "result = pd.DataFrame(dic)\n",
        "# result.to_csv('my.csv',index = False)"
      ],
      "metadata": {
        "id": "rRtSe4_rS043"
      },
      "execution_count": null,
      "outputs": []
    },
    {
      "cell_type": "markdown",
      "source": [
        "# submission"
      ],
      "metadata": {
        "id": "ai_8W9kqRqft"
      }
    },
    {
      "cell_type": "code",
      "source": [
        "sample_submission = pd.read_csv('./sample_submission.csv')"
      ],
      "metadata": {
        "id": "eN4CMwpNRrkt"
      },
      "execution_count": null,
      "outputs": []
    },
    {
      "cell_type": "code",
      "source": [
        "###########    pred 수정      ############\n",
        "\n",
        "# sample_submission['착과량(int)'] = pred                   \n",
        "sample_submission['착과량(int)'] = result['착과량(int)']    # mean ensemble\n",
        "\n",
        "##########################################\n",
        "\n",
        "\n",
        "# sample_submission['착과량(int)'] = sample_submission['착과량(int)'].map(lambda x: round(x)) # 반올림\n",
        "# sample_submission['착과량(int)'] = sample_submission['착과량(int)'].astype(int)  # 내림\n",
        "\n",
        "\n",
        "sample_submission.to_csv('./result.csv', index=False)"
      ],
      "metadata": {
        "id": "ibeasdw-RsyY"
      },
      "execution_count": null,
      "outputs": []
    }
  ]
}